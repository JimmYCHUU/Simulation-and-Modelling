{
  "nbformat": 4,
  "nbformat_minor": 0,
  "metadata": {
    "colab": {
      "provenance": []
    },
    "kernelspec": {
      "name": "python3",
      "display_name": "Python 3"
    },
    "language_info": {
      "name": "python"
    }
  },
  "cells": [
    {
      "cell_type": "markdown",
      "source": [
        "# Name : Sheikh Muhammad Asaj Ibtisam Nipun\n",
        "ID:2215151017\n",
        "\n",
        "Tasks:\n",
        "\n",
        "1.Use numpy to create a 3×3 matrix of random integers between 1 and 50.  \n",
        "2.Run the code twice </br>\n",
        "With a fixed seed (`np.random.seed(10)`) to ensure reproducibility.  \n",
        "Without setting a seed, allowing random values to change each time"
      ],
      "metadata": {
        "id": "d74IvK0tpzQk"
      }
    },
    {
      "cell_type": "code",
      "execution_count": null,
      "metadata": {
        "id": "gc8F5tpnpbRF"
      },
      "outputs": [],
      "source": [
        "import numpy as np"
      ]
    },
    {
      "cell_type": "code",
      "source": [
        "np.random.seed(10)\n",
        "matrix_with_seed = np.random.randint(1, 51, (3, 3))\n",
        "print(\"Matrix with fixed seed:\")\n",
        "print(matrix_with_seed)"
      ],
      "metadata": {
        "colab": {
          "base_uri": "https://localhost:8080/"
        },
        "id": "yQDTBDtIqAh_",
        "outputId": "d029e38f-0716-47f3-8087-a9dbee265d1c"
      },
      "execution_count": null,
      "outputs": [
        {
          "output_type": "stream",
          "name": "stdout",
          "text": [
            "Matrix with fixed seed:\n",
            "[[10 37 16]\n",
            " [ 1 50 29]\n",
            " [26 30 49]]\n"
          ]
        }
      ]
    },
    {
      "cell_type": "code",
      "source": [
        "matrix_without_seed = np.random.randint(1, 51, (3, 3))\n",
        "print(\"\\nMatrix without fixed seed:\")\n",
        "print(matrix_without_seed)"
      ],
      "metadata": {
        "colab": {
          "base_uri": "https://localhost:8080/"
        },
        "id": "7_CKVtQZqMGH",
        "outputId": "6fa1b961-858a-4728-e3e8-77ba82611985"
      },
      "execution_count": null,
      "outputs": [
        {
          "output_type": "stream",
          "name": "stdout",
          "text": [
            "\n",
            "Matrix without fixed seed:\n",
            "[[30 50  9]\n",
            " [10  1 43]\n",
            " [41 37 17]]\n"
          ]
        }
      ]
    },
    {
      "cell_type": "markdown",
      "source": [
        "  3.Observe and explain the differences in outputs.  (in a different cell as text)"
      ],
      "metadata": {
        "id": "kMbscLZwqYgJ"
      }
    },
    {
      "cell_type": "markdown",
      "source": [
        "1.Using a Fixed Seed</br>\n",
        "When a fixed seed is set, the random number remains the same every time the code runs. This is useful when the code needs to be executed multiple times while ensuring the matrix is generated consistently only once.\n",
        "\n",
        "2.Without Seeding </br>\n",
        "Without a seed, the code generates a new matrix with different random values each time it runs.\n",
        "\n",
        "\n",
        "\n",
        "\n",
        "\n",
        "\n",
        "\n"
      ],
      "metadata": {
        "id": "jptSmrjpQjfH"
      }
    }
  ]
}